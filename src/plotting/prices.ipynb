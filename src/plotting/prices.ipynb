{
 "cells": [
  {
   "cell_type": "code",
   "execution_count": null,
   "id": "f7677952",
   "metadata": {},
   "outputs": [],
   "source": [
    "import os\n",
    "import json\n",
    "from typing import Iterable\n",
    "import sqlite3\n",
    "import pandas as pd\n",
    "import matplotlib.pyplot as plt"
   ]
  },
  {
   "cell_type": "code",
   "execution_count": null,
   "id": "ab8c1014",
   "metadata": {},
   "outputs": [],
   "source": [
    "tickers = ['AAPL', 'GOOGL', 'NVDA']"
   ]
  },
  {
   "cell_type": "code",
   "execution_count": null,
   "id": "fbd67682",
   "metadata": {},
   "outputs": [],
   "source": [
    "def get_stocks_prices_form_db(\n",
    "        symbols: Iterable[str], db_file_path: str\n",
    "        ) -> dict[str, dict[str, dict[str, float | None]]]:\n",
    "    connection = sqlite3.connect(db_file_path)\n",
    "    cursor = connection.cursor()\n",
    "    # print(cur.execute('PRAGMA table_list').fetchall())\n",
    "    stocks_prices = {}\n",
    "    for symbol in symbols:\n",
    "        try:\n",
    "            row = cursor.execute(\n",
    "                f\"SELECT date, open, high, low, close FROM '{symbol.lower()}' ORDER BY date\"\n",
    "                ).fetchall()\n",
    "            stocks_prices[symbol.upper()] = (\n",
    "                {i[0]: {'Open': i[1], 'High': i[2], 'Low': i[3], 'Close': i[4]} for i in row}\n",
    "                )\n",
    "        except sqlite3.OperationalError:\n",
    "            continue\n",
    "    connection.close()\n",
    "\n",
    "    return stocks_prices"
   ]
  },
  {
   "cell_type": "code",
   "execution_count": null,
   "id": "d14f5757",
   "metadata": {},
   "outputs": [],
   "source": [
    "prices = get_stocks_prices_form_db(tickers, '../files_repo/prices.db')"
   ]
  },
  {
   "cell_type": "code",
   "execution_count": null,
   "id": "c56c220b",
   "metadata": {},
   "outputs": [],
   "source": [
    "close_prices: dict[str, dict[str, float | None]] = {}\n",
    "for ticker in tickers:\n",
    "    close_prices[ticker] = {k: v['Close'] for k, v in prices[ticker].items()}"
   ]
  },
  {
   "cell_type": "code",
   "execution_count": null,
   "id": "61d99d77",
   "metadata": {},
   "outputs": [],
   "source": [
    "fig = plt.figure(figsize=(15, 18), tight_layout=True)\n",
    "for n, ticker in enumerate(tickers):\n",
    "    plot_prices = pd.Series(close_prices[ticker]).sort_index().iloc[-500:]\n",
    "    plot_prices.index = pd.DatetimeIndex(plot_prices.index)\n",
    "    \n",
    "    plt.subplot(6, 5, n+1)\n",
    "    plot_prices.plot(lw=1)\n",
    "    plot_prices.rolling(20).mean().plot(lw=1)\n",
    "    plot_prices.rolling(60).mean().plot(lw=1)\n",
    "    plot_prices.rolling(180).mean().plot(lw=1)\n",
    "    plt.legend(['close', 'sma(20)', 'sma(60)', 'sma(180)'], fontsize=6)\n",
    "    plt.title(f'{ticker}')\n",
    "    plt.xticks(fontsize=6)\n",
    "    plt.yticks(fontsize=6)\n",
    "    plt.grid(visible=True)\n",
    "    "
   ]
  },
  {
   "cell_type": "code",
   "execution_count": null,
   "id": "5db05cf6",
   "metadata": {},
   "outputs": [],
   "source": []
  }
 ],
 "metadata": {
  "kernelspec": {
   "display_name": ".venv",
   "language": "python",
   "name": "python3"
  },
  "language_info": {
   "codemirror_mode": {
    "name": "ipython",
    "version": 3
   },
   "file_extension": ".py",
   "mimetype": "text/x-python",
   "name": "python",
   "nbconvert_exporter": "python",
   "pygments_lexer": "ipython3",
   "version": "3.12.4"
  }
 },
 "nbformat": 4,
 "nbformat_minor": 5
}
